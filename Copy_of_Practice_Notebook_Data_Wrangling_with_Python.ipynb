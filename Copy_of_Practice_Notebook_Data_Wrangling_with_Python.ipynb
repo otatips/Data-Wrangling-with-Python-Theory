{
  "nbformat": 4,
  "nbformat_minor": 0,
  "metadata": {
    "colab": {
      "name": "Copy of Practice Notebook: Data Wrangling with Python",
      "provenance": [],
      "collapsed_sections": [
        "SZOg8AbeAaub",
        "-1tL9P5BAhWS",
        "bISArgNWBxR-",
        "vAuIYctBB1ZX"
      ],
      "toc_visible": true,
      "include_colab_link": true
    },
    "kernelspec": {
      "name": "python3",
      "display_name": "Python 3"
    }
  },
  "cells": [
    {
      "cell_type": "markdown",
      "metadata": {
        "id": "view-in-github",
        "colab_type": "text"
      },
      "source": [
        "<a href=\"https://colab.research.google.com/github/otatips/Data-Wrangling-with-Python-Theory/blob/master/Copy_of_Practice_Notebook_Data_Wrangling_with_Python.ipynb\" target=\"_parent\"><img src=\"https://colab.research.google.com/assets/colab-badge.svg\" alt=\"Open In Colab\"/></a>"
      ]
    },
    {
      "cell_type": "markdown",
      "metadata": {
        "id": "1f9HbIqC9Glg",
        "colab_type": "text"
      },
      "source": [
        "<font color=\"blue\">To use this notebook on Colaboratory, you will need to make a copy of it. Go to File > Save a Copy in Drive. You can then use the new copy that will appear in the new tab.</font>\n"
      ]
    },
    {
      "cell_type": "markdown",
      "metadata": {
        "id": "e6Z5SVjn9XxQ",
        "colab_type": "text"
      },
      "source": [
        "# Practice Notebook: Data Wrangling with Python"
      ]
    },
    {
      "cell_type": "markdown",
      "metadata": {
        "id": "pcxusFFvAC4A",
        "colab_type": "text"
      },
      "source": [
        "## Pre-requisites"
      ]
    },
    {
      "cell_type": "code",
      "metadata": {
        "id": "_-wn-gNt8_0R",
        "colab_type": "code",
        "colab": {}
      },
      "source": [
        "# Pre-requisite 1\n",
        "# ---\n",
        "# Importing pandas library for data manipulation\n",
        "# ---\n",
        "# OUR CODE GOES BELOW\n",
        "# \n",
        "import pandas as pd"
      ],
      "execution_count": 0,
      "outputs": []
    },
    {
      "cell_type": "code",
      "metadata": {
        "id": "nj8z63_CMpmb",
        "colab_type": "code",
        "colab": {}
      },
      "source": [
        "# Pre-requisite 2\n",
        "# ---\n",
        "# Importing numpy library for scientific computations\n",
        "# ---\n",
        "# OUR CODE GOES BELOW\n",
        "# \n",
        "import numpy as np"
      ],
      "execution_count": 0,
      "outputs": []
    },
    {
      "cell_type": "markdown",
      "metadata": {
        "id": "oZqlt-RYAD9W",
        "colab_type": "text"
      },
      "source": [
        "## 1. Reading Data"
      ]
    },
    {
      "cell_type": "code",
      "metadata": {
        "id": "GwZMMVOTAHbV",
        "colab_type": "code",
        "colab": {
          "base_uri": "https://localhost:8080/",
          "height": 195
        },
        "outputId": "38b506fb-d81c-4cc8-affa-e83ac48f5e86"
      },
      "source": [
        "# Example 1\n",
        "# --- \n",
        "# Loading a dataset (csv file) from a url \n",
        "# ---\n",
        "# Dataset url (csv file) = http://bit.ly/IrisDataset\n",
        "# ---\n",
        "# OUR CODE GOES BELOW\n",
        "# \n",
        "\n",
        "# Reading our csv file from the given url \n",
        "df = pd.read_csv(\"http://bit.ly/IrisDataset\")\n",
        "\n",
        "# Previewing the first 5 records\n",
        "df.head()"
      ],
      "execution_count": 3,
      "outputs": [
        {
          "output_type": "execute_result",
          "data": {
            "text/html": [
              "<div>\n",
              "<style scoped>\n",
              "    .dataframe tbody tr th:only-of-type {\n",
              "        vertical-align: middle;\n",
              "    }\n",
              "\n",
              "    .dataframe tbody tr th {\n",
              "        vertical-align: top;\n",
              "    }\n",
              "\n",
              "    .dataframe thead th {\n",
              "        text-align: right;\n",
              "    }\n",
              "</style>\n",
              "<table border=\"1\" class=\"dataframe\">\n",
              "  <thead>\n",
              "    <tr style=\"text-align: right;\">\n",
              "      <th></th>\n",
              "      <th>sepal_length</th>\n",
              "      <th>sepal_width</th>\n",
              "      <th>petal_length</th>\n",
              "      <th>petal_width</th>\n",
              "      <th>species</th>\n",
              "    </tr>\n",
              "  </thead>\n",
              "  <tbody>\n",
              "    <tr>\n",
              "      <th>0</th>\n",
              "      <td>5.1</td>\n",
              "      <td>3.5</td>\n",
              "      <td>1.4</td>\n",
              "      <td>0.2</td>\n",
              "      <td>Iris-setosa</td>\n",
              "    </tr>\n",
              "    <tr>\n",
              "      <th>1</th>\n",
              "      <td>4.9</td>\n",
              "      <td>3.0</td>\n",
              "      <td>1.4</td>\n",
              "      <td>0.2</td>\n",
              "      <td>Iris-setosa</td>\n",
              "    </tr>\n",
              "    <tr>\n",
              "      <th>2</th>\n",
              "      <td>4.7</td>\n",
              "      <td>3.2</td>\n",
              "      <td>1.3</td>\n",
              "      <td>0.2</td>\n",
              "      <td>Iris-setosa</td>\n",
              "    </tr>\n",
              "    <tr>\n",
              "      <th>3</th>\n",
              "      <td>4.6</td>\n",
              "      <td>3.1</td>\n",
              "      <td>1.5</td>\n",
              "      <td>0.2</td>\n",
              "      <td>Iris-setosa</td>\n",
              "    </tr>\n",
              "    <tr>\n",
              "      <th>4</th>\n",
              "      <td>5.0</td>\n",
              "      <td>3.6</td>\n",
              "      <td>1.4</td>\n",
              "      <td>0.2</td>\n",
              "      <td>Iris-setosa</td>\n",
              "    </tr>\n",
              "  </tbody>\n",
              "</table>\n",
              "</div>"
            ],
            "text/plain": [
              "   sepal_length  sepal_width  petal_length  petal_width      species\n",
              "0           5.1          3.5           1.4          0.2  Iris-setosa\n",
              "1           4.9          3.0           1.4          0.2  Iris-setosa\n",
              "2           4.7          3.2           1.3          0.2  Iris-setosa\n",
              "3           4.6          3.1           1.5          0.2  Iris-setosa\n",
              "4           5.0          3.6           1.4          0.2  Iris-setosa"
            ]
          },
          "metadata": {
            "tags": []
          },
          "execution_count": 3
        }
      ]
    },
    {
      "cell_type": "code",
      "metadata": {
        "id": "EUoQlxZpAM3Q",
        "colab_type": "code",
        "colab": {
          "base_uri": "https://localhost:8080/",
          "height": 282
        },
        "outputId": "2183a00b-64fe-46dc-cf69-d548c852d3fa"
      },
      "source": [
        "# Challenge 1a\n",
        "# ---\n",
        "# Question: Load the following video games dataset and preview the first 5 records.\n",
        "# Hint: Use a different dataframe that the one used in the example dataset \n",
        "#       i.e. using the dataframe name \"video_df\" rather using the dataframe name \"df\"\n",
        "#       If you use the same dataframe names for the examples and challenges you \n",
        "#       might experience a crash.\n",
        "#       We will be using this dataset for most of the challenges.\n",
        "# ---\n",
        "# Dataset url (csv file) = http://bit.ly/VideoGamesSalesDataset\n",
        "# ---\n",
        "# OUR CODE GOES BELOW\n",
        "#\n",
        "df = pd.read_csv(\"http://bit.ly/VideoGamesSalesDataset\")\n",
        "\n",
        "df.head()"
      ],
      "execution_count": 10,
      "outputs": [
        {
          "output_type": "execute_result",
          "data": {
            "text/html": [
              "<div>\n",
              "<style scoped>\n",
              "    .dataframe tbody tr th:only-of-type {\n",
              "        vertical-align: middle;\n",
              "    }\n",
              "\n",
              "    .dataframe tbody tr th {\n",
              "        vertical-align: top;\n",
              "    }\n",
              "\n",
              "    .dataframe thead th {\n",
              "        text-align: right;\n",
              "    }\n",
              "</style>\n",
              "<table border=\"1\" class=\"dataframe\">\n",
              "  <thead>\n",
              "    <tr style=\"text-align: right;\">\n",
              "      <th></th>\n",
              "      <th>Name</th>\n",
              "      <th>Platform</th>\n",
              "      <th>Year_of_Release</th>\n",
              "      <th>Genre</th>\n",
              "      <th>Publisher</th>\n",
              "      <th>NA_Sales</th>\n",
              "      <th>EU_Sales</th>\n",
              "      <th>JP_Sales</th>\n",
              "      <th>Other_Sales</th>\n",
              "      <th>Global_Sales</th>\n",
              "      <th>Critic_Score</th>\n",
              "      <th>Critic_Count</th>\n",
              "      <th>User_Score</th>\n",
              "      <th>User_Count</th>\n",
              "      <th>Rating</th>\n",
              "    </tr>\n",
              "  </thead>\n",
              "  <tbody>\n",
              "    <tr>\n",
              "      <th>0</th>\n",
              "      <td>Wii Sports</td>\n",
              "      <td>Wii</td>\n",
              "      <td>2006.0</td>\n",
              "      <td>Sports</td>\n",
              "      <td>Nintendo</td>\n",
              "      <td>41.36</td>\n",
              "      <td>28.96</td>\n",
              "      <td>3.77</td>\n",
              "      <td>8.45</td>\n",
              "      <td>82.54</td>\n",
              "      <td>76.0</td>\n",
              "      <td>51.0</td>\n",
              "      <td>8.0</td>\n",
              "      <td>324.0</td>\n",
              "      <td>E</td>\n",
              "    </tr>\n",
              "    <tr>\n",
              "      <th>1</th>\n",
              "      <td>Super Mario Bros.</td>\n",
              "      <td>NES</td>\n",
              "      <td>1985.0</td>\n",
              "      <td>Platform</td>\n",
              "      <td>Nintendo</td>\n",
              "      <td>29.08</td>\n",
              "      <td>3.58</td>\n",
              "      <td>6.81</td>\n",
              "      <td>0.77</td>\n",
              "      <td>40.24</td>\n",
              "      <td>NaN</td>\n",
              "      <td>NaN</td>\n",
              "      <td>NaN</td>\n",
              "      <td>NaN</td>\n",
              "      <td>NaN</td>\n",
              "    </tr>\n",
              "    <tr>\n",
              "      <th>2</th>\n",
              "      <td>Mario Kart Wii</td>\n",
              "      <td>Wii</td>\n",
              "      <td>2008.0</td>\n",
              "      <td>Racing</td>\n",
              "      <td>Nintendo</td>\n",
              "      <td>15.68</td>\n",
              "      <td>12.80</td>\n",
              "      <td>3.79</td>\n",
              "      <td>3.29</td>\n",
              "      <td>35.57</td>\n",
              "      <td>82.0</td>\n",
              "      <td>73.0</td>\n",
              "      <td>8.3</td>\n",
              "      <td>712.0</td>\n",
              "      <td>E</td>\n",
              "    </tr>\n",
              "    <tr>\n",
              "      <th>3</th>\n",
              "      <td>Wii Sports Resort</td>\n",
              "      <td>Wii</td>\n",
              "      <td>2009.0</td>\n",
              "      <td>Sports</td>\n",
              "      <td>Nintendo</td>\n",
              "      <td>15.61</td>\n",
              "      <td>10.95</td>\n",
              "      <td>3.28</td>\n",
              "      <td>2.95</td>\n",
              "      <td>32.78</td>\n",
              "      <td>80.0</td>\n",
              "      <td>73.0</td>\n",
              "      <td>8.0</td>\n",
              "      <td>193.0</td>\n",
              "      <td>E</td>\n",
              "    </tr>\n",
              "    <tr>\n",
              "      <th>4</th>\n",
              "      <td>Pokemon Red/Pokemon Blue</td>\n",
              "      <td>G</td>\n",
              "      <td>1996.0</td>\n",
              "      <td>Role-Playing</td>\n",
              "      <td>Nintendo</td>\n",
              "      <td>11.27</td>\n",
              "      <td>8.89</td>\n",
              "      <td>10.22</td>\n",
              "      <td>1.00</td>\n",
              "      <td>31.37</td>\n",
              "      <td>NaN</td>\n",
              "      <td>NaN</td>\n",
              "      <td>NaN</td>\n",
              "      <td>NaN</td>\n",
              "      <td>NaN</td>\n",
              "    </tr>\n",
              "  </tbody>\n",
              "</table>\n",
              "</div>"
            ],
            "text/plain": [
              "                       Name Platform  ...  User_Count Rating\n",
              "0                Wii Sports      Wii  ...       324.0      E\n",
              "1         Super Mario Bros.      NES  ...         NaN    NaN\n",
              "2            Mario Kart Wii      Wii  ...       712.0      E\n",
              "3         Wii Sports Resort      Wii  ...       193.0      E\n",
              "4  Pokemon Red/Pokemon Blue        G  ...         NaN    NaN\n",
              "\n",
              "[5 rows x 15 columns]"
            ]
          },
          "metadata": {
            "tags": []
          },
          "execution_count": 10
        }
      ]
    },
    {
      "cell_type": "code",
      "metadata": {
        "id": "_Y1poor54Wa8",
        "colab_type": "code",
        "colab": {
          "base_uri": "https://localhost:8080/",
          "height": 195
        },
        "outputId": "fd5c71e4-4b22-4b54-c47c-c4efc99b80c2"
      },
      "source": [
        "# Challenge 1b\n",
        "# ---\n",
        "# Question: Load a dataset (excel file) from the url below\n",
        "# Hint: use the read_excel() function rather than using the read_csv() function\n",
        "# ---\n",
        "# Dataset url = http://bit.ly/WindmillDataset\n",
        "# ---\n",
        "# OUR CODE GOES BELOW\n",
        "#\n",
        "df = pd.read_excel(\"http://bit.ly/WindmillDataset\")\n",
        "\n",
        "df.head()"
      ],
      "execution_count": 11,
      "outputs": [
        {
          "output_type": "execute_result",
          "data": {
            "text/html": [
              "<div>\n",
              "<style scoped>\n",
              "    .dataframe tbody tr th:only-of-type {\n",
              "        vertical-align: middle;\n",
              "    }\n",
              "\n",
              "    .dataframe tbody tr th {\n",
              "        vertical-align: top;\n",
              "    }\n",
              "\n",
              "    .dataframe thead th {\n",
              "        text-align: right;\n",
              "    }\n",
              "</style>\n",
              "<table border=\"1\" class=\"dataframe\">\n",
              "  <thead>\n",
              "    <tr style=\"text-align: right;\">\n",
              "      <th></th>\n",
              "      <th>Windmill</th>\n",
              "      <th>Wind Speed (m/s)</th>\n",
              "      <th>Power output (MW)</th>\n",
              "    </tr>\n",
              "  </thead>\n",
              "  <tbody>\n",
              "    <tr>\n",
              "      <th>0</th>\n",
              "      <td>a1</td>\n",
              "      <td>1.096875</td>\n",
              "      <td>0.000000</td>\n",
              "    </tr>\n",
              "    <tr>\n",
              "      <th>1</th>\n",
              "      <td>a2</td>\n",
              "      <td>1.231528</td>\n",
              "      <td>0.000000</td>\n",
              "    </tr>\n",
              "    <tr>\n",
              "      <th>2</th>\n",
              "      <td>a3</td>\n",
              "      <td>1.275139</td>\n",
              "      <td>0.005479</td>\n",
              "    </tr>\n",
              "    <tr>\n",
              "      <th>3</th>\n",
              "      <td>a4</td>\n",
              "      <td>1.365486</td>\n",
              "      <td>0.010104</td>\n",
              "    </tr>\n",
              "    <tr>\n",
              "      <th>4</th>\n",
              "      <td>a5</td>\n",
              "      <td>1.387778</td>\n",
              "      <td>0.010812</td>\n",
              "    </tr>\n",
              "  </tbody>\n",
              "</table>\n",
              "</div>"
            ],
            "text/plain": [
              "  Windmill  Wind Speed (m/s)  Power output (MW)\n",
              "0       a1          1.096875           0.000000\n",
              "1       a2          1.231528           0.000000\n",
              "2       a3          1.275139           0.005479\n",
              "3       a4          1.365486           0.010104\n",
              "4       a5          1.387778           0.010812"
            ]
          },
          "metadata": {
            "tags": []
          },
          "execution_count": 11
        }
      ]
    },
    {
      "cell_type": "markdown",
      "metadata": {
        "id": "4c8lbnCpAKR7",
        "colab_type": "text"
      },
      "source": [
        "## 2. Data Exploration"
      ]
    },
    {
      "cell_type": "code",
      "metadata": {
        "id": "CsUVqRqbATr0",
        "colab_type": "code",
        "colab": {
          "base_uri": "https://localhost:8080/",
          "height": 34
        },
        "outputId": "c14c8792-b92f-4a95-ebbb-b03caf12c442"
      },
      "source": [
        "# Example 2a\n",
        "# ---\n",
        "# Determining the no. of records in the dataset \n",
        "# NB: We will use the above loaded dataset in example 1\n",
        "# ---\n",
        "# OUR CODE GOES BELOW\n",
        "#\n",
        "\n",
        "# Shape returns no. or records/instances (left) and columns/variables (right)\n",
        "#\n",
        "df.shape"
      ],
      "execution_count": 12,
      "outputs": [
        {
          "output_type": "execute_result",
          "data": {
            "text/plain": [
              "(365, 3)"
            ]
          },
          "metadata": {
            "tags": []
          },
          "execution_count": 12
        }
      ]
    },
    {
      "cell_type": "code",
      "metadata": {
        "id": "RvZTev3C37-2",
        "colab_type": "code",
        "colab": {
          "base_uri": "https://localhost:8080/",
          "height": 34
        },
        "outputId": "7510065a-70e1-4b3f-d7a7-a438dd51e298"
      },
      "source": [
        "# Challenge 2a\n",
        "# ---\n",
        "# Question: Determine the no. of records in the our video games dataset.\n",
        "# ---  \n",
        "# OUR CODE GOES BELOW\n",
        "#\n",
        "df = pd.read_csv(\"http://bit.ly/VideoGamesSalesDataset\")\n",
        "\n",
        "df.shape"
      ],
      "execution_count": 13,
      "outputs": [
        {
          "output_type": "execute_result",
          "data": {
            "text/plain": [
              "(17416, 15)"
            ]
          },
          "metadata": {
            "tags": []
          },
          "execution_count": 13
        }
      ]
    },
    {
      "cell_type": "code",
      "metadata": {
        "id": "sWVV3zfwGgHK",
        "colab_type": "code",
        "colab": {
          "base_uri": "https://localhost:8080/",
          "height": 568
        },
        "outputId": "0fbb4157-2de1-4806-be3d-70561917fe1e"
      },
      "source": [
        "# Example 2b\n",
        "# ---\n",
        "# Previewing the last few records/instances of our dataset\n",
        "# NB: last() gives us the last 5 records/instances\n",
        "# ---\n",
        "# OUR CODE GOES BELOW\n",
        "#\n",
        "df.tail()"
      ],
      "execution_count": 14,
      "outputs": [
        {
          "output_type": "execute_result",
          "data": {
            "text/html": [
              "<div>\n",
              "<style scoped>\n",
              "    .dataframe tbody tr th:only-of-type {\n",
              "        vertical-align: middle;\n",
              "    }\n",
              "\n",
              "    .dataframe tbody tr th {\n",
              "        vertical-align: top;\n",
              "    }\n",
              "\n",
              "    .dataframe thead th {\n",
              "        text-align: right;\n",
              "    }\n",
              "</style>\n",
              "<table border=\"1\" class=\"dataframe\">\n",
              "  <thead>\n",
              "    <tr style=\"text-align: right;\">\n",
              "      <th></th>\n",
              "      <th>Name</th>\n",
              "      <th>Platform</th>\n",
              "      <th>Year_of_Release</th>\n",
              "      <th>Genre</th>\n",
              "      <th>Publisher</th>\n",
              "      <th>NA_Sales</th>\n",
              "      <th>EU_Sales</th>\n",
              "      <th>JP_Sales</th>\n",
              "      <th>Other_Sales</th>\n",
              "      <th>Global_Sales</th>\n",
              "      <th>Critic_Score</th>\n",
              "      <th>Critic_Count</th>\n",
              "      <th>User_Score</th>\n",
              "      <th>User_Count</th>\n",
              "      <th>Rating</th>\n",
              "    </tr>\n",
              "  </thead>\n",
              "  <tbody>\n",
              "    <tr>\n",
              "      <th>17411</th>\n",
              "      <td>Nancy Drew: The Deadly Secret of Olde World Park</td>\n",
              "      <td>DS</td>\n",
              "      <td>2007.0</td>\n",
              "      <td>Adventure</td>\n",
              "      <td>Majesco Entertainment</td>\n",
              "      <td>0.0</td>\n",
              "      <td>0.0</td>\n",
              "      <td>0.00</td>\n",
              "      <td>0.0</td>\n",
              "      <td>0.01</td>\n",
              "      <td>64.0</td>\n",
              "      <td>7.0</td>\n",
              "      <td>NaN</td>\n",
              "      <td>NaN</td>\n",
              "      <td>E</td>\n",
              "    </tr>\n",
              "    <tr>\n",
              "      <th>17412</th>\n",
              "      <td>Fashion Designer: Style Icon</td>\n",
              "      <td>DS</td>\n",
              "      <td>2007.0</td>\n",
              "      <td>Simulation</td>\n",
              "      <td>505 Games</td>\n",
              "      <td>0.0</td>\n",
              "      <td>0.0</td>\n",
              "      <td>0.00</td>\n",
              "      <td>0.0</td>\n",
              "      <td>0.01</td>\n",
              "      <td>NaN</td>\n",
              "      <td>NaN</td>\n",
              "      <td>NaN</td>\n",
              "      <td>NaN</td>\n",
              "      <td>NaN</td>\n",
              "    </tr>\n",
              "    <tr>\n",
              "      <th>17413</th>\n",
              "      <td>Ashita no Joe 2: The Anime Super Remix</td>\n",
              "      <td>PS2</td>\n",
              "      <td>2002.0</td>\n",
              "      <td>Fighting</td>\n",
              "      <td>Capcom</td>\n",
              "      <td>0.0</td>\n",
              "      <td>0.0</td>\n",
              "      <td>0.01</td>\n",
              "      <td>0.0</td>\n",
              "      <td>0.01</td>\n",
              "      <td>NaN</td>\n",
              "      <td>NaN</td>\n",
              "      <td>NaN</td>\n",
              "      <td>NaN</td>\n",
              "      <td>NaN</td>\n",
              "    </tr>\n",
              "    <tr>\n",
              "      <th>17414</th>\n",
              "      <td>NadePro!! Kisama no Seiyuu Yatte Miro!</td>\n",
              "      <td>PS2</td>\n",
              "      <td>2009.0</td>\n",
              "      <td>Adventure</td>\n",
              "      <td>GungHo</td>\n",
              "      <td>0.0</td>\n",
              "      <td>0.0</td>\n",
              "      <td>0.01</td>\n",
              "      <td>0.0</td>\n",
              "      <td>0.01</td>\n",
              "      <td>NaN</td>\n",
              "      <td>NaN</td>\n",
              "      <td>NaN</td>\n",
              "      <td>NaN</td>\n",
              "      <td>NaN</td>\n",
              "    </tr>\n",
              "    <tr>\n",
              "      <th>17415</th>\n",
              "      <td>Brian Lara 2007 Pressure Play</td>\n",
              "      <td>PSP</td>\n",
              "      <td>2007.0</td>\n",
              "      <td>Sports</td>\n",
              "      <td>Codemasters</td>\n",
              "      <td>0.0</td>\n",
              "      <td>0.0</td>\n",
              "      <td>0.00</td>\n",
              "      <td>0.0</td>\n",
              "      <td>0.01</td>\n",
              "      <td>NaN</td>\n",
              "      <td>NaN</td>\n",
              "      <td>NaN</td>\n",
              "      <td>NaN</td>\n",
              "      <td>NaN</td>\n",
              "    </tr>\n",
              "  </tbody>\n",
              "</table>\n",
              "</div>"
            ],
            "text/plain": [
              "                                                   Name  ... Rating\n",
              "17411  Nancy Drew: The Deadly Secret of Olde World Park  ...      E\n",
              "17412                      Fashion Designer: Style Icon  ...    NaN\n",
              "17413            Ashita no Joe 2: The Anime Super Remix  ...    NaN\n",
              "17414            NadePro!! Kisama no Seiyuu Yatte Miro!  ...    NaN\n",
              "17415                     Brian Lara 2007 Pressure Play  ...    NaN\n",
              "\n",
              "[5 rows x 15 columns]"
            ]
          },
          "metadata": {
            "tags": []
          },
          "execution_count": 14
        }
      ]
    },
    {
      "cell_type": "code",
      "metadata": {
        "id": "s96T5zy34jZh",
        "colab_type": "code",
        "colab": {
          "base_uri": "https://localhost:8080/",
          "height": 568
        },
        "outputId": "a2a079b4-17cc-4194-cbeb-79a8c2596bbd"
      },
      "source": [
        "# Challenge 2c\n",
        "# ---\n",
        "# Question: Preview the last few records in the video games dataset.\n",
        "# Hint = Use the dataframe you created for this dataset. \n",
        "# ---\n",
        "# OUR CODE GOES BELOW\n",
        "#\n",
        "df = pd.read_csv(\"http://bit.ly/VideoGamesSalesDataset\")\n",
        "df.tail()"
      ],
      "execution_count": 19,
      "outputs": [
        {
          "output_type": "execute_result",
          "data": {
            "text/html": [
              "<div>\n",
              "<style scoped>\n",
              "    .dataframe tbody tr th:only-of-type {\n",
              "        vertical-align: middle;\n",
              "    }\n",
              "\n",
              "    .dataframe tbody tr th {\n",
              "        vertical-align: top;\n",
              "    }\n",
              "\n",
              "    .dataframe thead th {\n",
              "        text-align: right;\n",
              "    }\n",
              "</style>\n",
              "<table border=\"1\" class=\"dataframe\">\n",
              "  <thead>\n",
              "    <tr style=\"text-align: right;\">\n",
              "      <th></th>\n",
              "      <th>Name</th>\n",
              "      <th>Platform</th>\n",
              "      <th>Year_of_Release</th>\n",
              "      <th>Genre</th>\n",
              "      <th>Publisher</th>\n",
              "      <th>NA_Sales</th>\n",
              "      <th>EU_Sales</th>\n",
              "      <th>JP_Sales</th>\n",
              "      <th>Other_Sales</th>\n",
              "      <th>Global_Sales</th>\n",
              "      <th>Critic_Score</th>\n",
              "      <th>Critic_Count</th>\n",
              "      <th>User_Score</th>\n",
              "      <th>User_Count</th>\n",
              "      <th>Rating</th>\n",
              "    </tr>\n",
              "  </thead>\n",
              "  <tbody>\n",
              "    <tr>\n",
              "      <th>17411</th>\n",
              "      <td>Nancy Drew: The Deadly Secret of Olde World Park</td>\n",
              "      <td>DS</td>\n",
              "      <td>2007.0</td>\n",
              "      <td>Adventure</td>\n",
              "      <td>Majesco Entertainment</td>\n",
              "      <td>0.0</td>\n",
              "      <td>0.0</td>\n",
              "      <td>0.00</td>\n",
              "      <td>0.0</td>\n",
              "      <td>0.01</td>\n",
              "      <td>64.0</td>\n",
              "      <td>7.0</td>\n",
              "      <td>NaN</td>\n",
              "      <td>NaN</td>\n",
              "      <td>E</td>\n",
              "    </tr>\n",
              "    <tr>\n",
              "      <th>17412</th>\n",
              "      <td>Fashion Designer: Style Icon</td>\n",
              "      <td>DS</td>\n",
              "      <td>2007.0</td>\n",
              "      <td>Simulation</td>\n",
              "      <td>505 Games</td>\n",
              "      <td>0.0</td>\n",
              "      <td>0.0</td>\n",
              "      <td>0.00</td>\n",
              "      <td>0.0</td>\n",
              "      <td>0.01</td>\n",
              "      <td>NaN</td>\n",
              "      <td>NaN</td>\n",
              "      <td>NaN</td>\n",
              "      <td>NaN</td>\n",
              "      <td>NaN</td>\n",
              "    </tr>\n",
              "    <tr>\n",
              "      <th>17413</th>\n",
              "      <td>Ashita no Joe 2: The Anime Super Remix</td>\n",
              "      <td>PS2</td>\n",
              "      <td>2002.0</td>\n",
              "      <td>Fighting</td>\n",
              "      <td>Capcom</td>\n",
              "      <td>0.0</td>\n",
              "      <td>0.0</td>\n",
              "      <td>0.01</td>\n",
              "      <td>0.0</td>\n",
              "      <td>0.01</td>\n",
              "      <td>NaN</td>\n",
              "      <td>NaN</td>\n",
              "      <td>NaN</td>\n",
              "      <td>NaN</td>\n",
              "      <td>NaN</td>\n",
              "    </tr>\n",
              "    <tr>\n",
              "      <th>17414</th>\n",
              "      <td>NadePro!! Kisama no Seiyuu Yatte Miro!</td>\n",
              "      <td>PS2</td>\n",
              "      <td>2009.0</td>\n",
              "      <td>Adventure</td>\n",
              "      <td>GungHo</td>\n",
              "      <td>0.0</td>\n",
              "      <td>0.0</td>\n",
              "      <td>0.01</td>\n",
              "      <td>0.0</td>\n",
              "      <td>0.01</td>\n",
              "      <td>NaN</td>\n",
              "      <td>NaN</td>\n",
              "      <td>NaN</td>\n",
              "      <td>NaN</td>\n",
              "      <td>NaN</td>\n",
              "    </tr>\n",
              "    <tr>\n",
              "      <th>17415</th>\n",
              "      <td>Brian Lara 2007 Pressure Play</td>\n",
              "      <td>PSP</td>\n",
              "      <td>2007.0</td>\n",
              "      <td>Sports</td>\n",
              "      <td>Codemasters</td>\n",
              "      <td>0.0</td>\n",
              "      <td>0.0</td>\n",
              "      <td>0.00</td>\n",
              "      <td>0.0</td>\n",
              "      <td>0.01</td>\n",
              "      <td>NaN</td>\n",
              "      <td>NaN</td>\n",
              "      <td>NaN</td>\n",
              "      <td>NaN</td>\n",
              "      <td>NaN</td>\n",
              "    </tr>\n",
              "  </tbody>\n",
              "</table>\n",
              "</div>"
            ],
            "text/plain": [
              "                                                   Name  ... Rating\n",
              "17411  Nancy Drew: The Deadly Secret of Olde World Park  ...      E\n",
              "17412                      Fashion Designer: Style Icon  ...    NaN\n",
              "17413            Ashita no Joe 2: The Anime Super Remix  ...    NaN\n",
              "17414            NadePro!! Kisama no Seiyuu Yatte Miro!  ...    NaN\n",
              "17415                     Brian Lara 2007 Pressure Play  ...    NaN\n",
              "\n",
              "[5 rows x 15 columns]"
            ]
          },
          "metadata": {
            "tags": []
          },
          "execution_count": 19
        }
      ]
    },
    {
      "cell_type": "code",
      "metadata": {
        "id": "dx2kj5ZHGu-y",
        "colab_type": "code",
        "colab": {
          "base_uri": "https://localhost:8080/",
          "height": 286
        },
        "outputId": "d7904928-8a06-4ea5-9172-d101ab2150bb"
      },
      "source": [
        "# Example 2c\n",
        "# ---\n",
        "# Checking the datatypes of df variables (columns)\n",
        "# --- \n",
        "# OUR CODE GOES BELOW\n",
        "#\n",
        "df.dtypes"
      ],
      "execution_count": 17,
      "outputs": [
        {
          "output_type": "execute_result",
          "data": {
            "text/plain": [
              "Name                object\n",
              "Platform            object\n",
              "Year_of_Release    float64\n",
              "Genre               object\n",
              "Publisher           object\n",
              "NA_Sales           float64\n",
              "EU_Sales           float64\n",
              "JP_Sales           float64\n",
              "Other_Sales        float64\n",
              "Global_Sales       float64\n",
              "Critic_Score       float64\n",
              "Critic_Count       float64\n",
              "User_Score         float64\n",
              "User_Count         float64\n",
              "Rating              object\n",
              "dtype: object"
            ]
          },
          "metadata": {
            "tags": []
          },
          "execution_count": 17
        }
      ]
    },
    {
      "cell_type": "code",
      "metadata": {
        "id": "G3koGy_RATgd",
        "colab_type": "code",
        "colab": {
          "base_uri": "https://localhost:8080/",
          "height": 286
        },
        "outputId": "349cbed1-1478-4c39-f509-23d2e0d897c2"
      },
      "source": [
        "# Challenge 2d\n",
        "# ---\n",
        "# Question: Check the datatypes of the video games dataset.\n",
        "# ---\n",
        "# OUR CODE GOES BELOW\n",
        "# \n",
        "df = pd.read_csv(\"http://bit.ly/VideoGamesSalesDataset\")\n",
        "\n",
        "df.dtypes"
      ],
      "execution_count": 18,
      "outputs": [
        {
          "output_type": "execute_result",
          "data": {
            "text/plain": [
              "Name                object\n",
              "Platform            object\n",
              "Year_of_Release    float64\n",
              "Genre               object\n",
              "Publisher           object\n",
              "NA_Sales           float64\n",
              "EU_Sales           float64\n",
              "JP_Sales           float64\n",
              "Other_Sales        float64\n",
              "Global_Sales       float64\n",
              "Critic_Score       float64\n",
              "Critic_Count       float64\n",
              "User_Score         float64\n",
              "User_Count         float64\n",
              "Rating              object\n",
              "dtype: object"
            ]
          },
          "metadata": {
            "tags": []
          },
          "execution_count": 18
        }
      ]
    },
    {
      "cell_type": "markdown",
      "metadata": {
        "id": "jmQzRWnBAUip",
        "colab_type": "text"
      },
      "source": [
        "## 3. Missing Data"
      ]
    },
    {
      "cell_type": "code",
      "metadata": {
        "id": "d2e_4DahAZ1L",
        "colab_type": "code",
        "colab": {
          "base_uri": "https://localhost:8080/",
          "height": 422
        },
        "outputId": "32376323-81de-4738-927a-70d8777045a3"
      },
      "source": [
        "# Example 3a\n",
        "# ---\n",
        "# Checking for missing data\n",
        "# NB: This method may not be the most convenient. Why? \n",
        "# --- \n",
        "# \n",
        "# We can check if there is any missing values in the entire dataframe as shown \n",
        "# ---\n",
        "# OUR CODE GOES BELOW\n",
        "# \n",
        "df.isnull()"
      ],
      "execution_count": 20,
      "outputs": [
        {
          "output_type": "execute_result",
          "data": {
            "text/html": [
              "<div>\n",
              "<style scoped>\n",
              "    .dataframe tbody tr th:only-of-type {\n",
              "        vertical-align: middle;\n",
              "    }\n",
              "\n",
              "    .dataframe tbody tr th {\n",
              "        vertical-align: top;\n",
              "    }\n",
              "\n",
              "    .dataframe thead th {\n",
              "        text-align: right;\n",
              "    }\n",
              "</style>\n",
              "<table border=\"1\" class=\"dataframe\">\n",
              "  <thead>\n",
              "    <tr style=\"text-align: right;\">\n",
              "      <th></th>\n",
              "      <th>Name</th>\n",
              "      <th>Platform</th>\n",
              "      <th>Year_of_Release</th>\n",
              "      <th>Genre</th>\n",
              "      <th>Publisher</th>\n",
              "      <th>NA_Sales</th>\n",
              "      <th>EU_Sales</th>\n",
              "      <th>JP_Sales</th>\n",
              "      <th>Other_Sales</th>\n",
              "      <th>Global_Sales</th>\n",
              "      <th>Critic_Score</th>\n",
              "      <th>Critic_Count</th>\n",
              "      <th>User_Score</th>\n",
              "      <th>User_Count</th>\n",
              "      <th>Rating</th>\n",
              "    </tr>\n",
              "  </thead>\n",
              "  <tbody>\n",
              "    <tr>\n",
              "      <th>0</th>\n",
              "      <td>False</td>\n",
              "      <td>False</td>\n",
              "      <td>False</td>\n",
              "      <td>False</td>\n",
              "      <td>False</td>\n",
              "      <td>False</td>\n",
              "      <td>False</td>\n",
              "      <td>False</td>\n",
              "      <td>False</td>\n",
              "      <td>False</td>\n",
              "      <td>False</td>\n",
              "      <td>False</td>\n",
              "      <td>False</td>\n",
              "      <td>False</td>\n",
              "      <td>False</td>\n",
              "    </tr>\n",
              "    <tr>\n",
              "      <th>1</th>\n",
              "      <td>False</td>\n",
              "      <td>False</td>\n",
              "      <td>False</td>\n",
              "      <td>False</td>\n",
              "      <td>False</td>\n",
              "      <td>False</td>\n",
              "      <td>False</td>\n",
              "      <td>False</td>\n",
              "      <td>False</td>\n",
              "      <td>False</td>\n",
              "      <td>True</td>\n",
              "      <td>True</td>\n",
              "      <td>True</td>\n",
              "      <td>True</td>\n",
              "      <td>True</td>\n",
              "    </tr>\n",
              "    <tr>\n",
              "      <th>2</th>\n",
              "      <td>False</td>\n",
              "      <td>False</td>\n",
              "      <td>False</td>\n",
              "      <td>False</td>\n",
              "      <td>False</td>\n",
              "      <td>False</td>\n",
              "      <td>False</td>\n",
              "      <td>False</td>\n",
              "      <td>False</td>\n",
              "      <td>False</td>\n",
              "      <td>False</td>\n",
              "      <td>False</td>\n",
              "      <td>False</td>\n",
              "      <td>False</td>\n",
              "      <td>False</td>\n",
              "    </tr>\n",
              "    <tr>\n",
              "      <th>3</th>\n",
              "      <td>False</td>\n",
              "      <td>False</td>\n",
              "      <td>False</td>\n",
              "      <td>False</td>\n",
              "      <td>False</td>\n",
              "      <td>False</td>\n",
              "      <td>False</td>\n",
              "      <td>False</td>\n",
              "      <td>False</td>\n",
              "      <td>False</td>\n",
              "      <td>False</td>\n",
              "      <td>False</td>\n",
              "      <td>False</td>\n",
              "      <td>False</td>\n",
              "      <td>False</td>\n",
              "    </tr>\n",
              "    <tr>\n",
              "      <th>4</th>\n",
              "      <td>False</td>\n",
              "      <td>False</td>\n",
              "      <td>False</td>\n",
              "      <td>False</td>\n",
              "      <td>False</td>\n",
              "      <td>False</td>\n",
              "      <td>False</td>\n",
              "      <td>False</td>\n",
              "      <td>False</td>\n",
              "      <td>False</td>\n",
              "      <td>True</td>\n",
              "      <td>True</td>\n",
              "      <td>True</td>\n",
              "      <td>True</td>\n",
              "      <td>True</td>\n",
              "    </tr>\n",
              "    <tr>\n",
              "      <th>...</th>\n",
              "      <td>...</td>\n",
              "      <td>...</td>\n",
              "      <td>...</td>\n",
              "      <td>...</td>\n",
              "      <td>...</td>\n",
              "      <td>...</td>\n",
              "      <td>...</td>\n",
              "      <td>...</td>\n",
              "      <td>...</td>\n",
              "      <td>...</td>\n",
              "      <td>...</td>\n",
              "      <td>...</td>\n",
              "      <td>...</td>\n",
              "      <td>...</td>\n",
              "      <td>...</td>\n",
              "    </tr>\n",
              "    <tr>\n",
              "      <th>17411</th>\n",
              "      <td>False</td>\n",
              "      <td>False</td>\n",
              "      <td>False</td>\n",
              "      <td>False</td>\n",
              "      <td>False</td>\n",
              "      <td>False</td>\n",
              "      <td>False</td>\n",
              "      <td>False</td>\n",
              "      <td>False</td>\n",
              "      <td>False</td>\n",
              "      <td>False</td>\n",
              "      <td>False</td>\n",
              "      <td>True</td>\n",
              "      <td>True</td>\n",
              "      <td>False</td>\n",
              "    </tr>\n",
              "    <tr>\n",
              "      <th>17412</th>\n",
              "      <td>False</td>\n",
              "      <td>False</td>\n",
              "      <td>False</td>\n",
              "      <td>False</td>\n",
              "      <td>False</td>\n",
              "      <td>False</td>\n",
              "      <td>False</td>\n",
              "      <td>False</td>\n",
              "      <td>False</td>\n",
              "      <td>False</td>\n",
              "      <td>True</td>\n",
              "      <td>True</td>\n",
              "      <td>True</td>\n",
              "      <td>True</td>\n",
              "      <td>True</td>\n",
              "    </tr>\n",
              "    <tr>\n",
              "      <th>17413</th>\n",
              "      <td>False</td>\n",
              "      <td>False</td>\n",
              "      <td>False</td>\n",
              "      <td>False</td>\n",
              "      <td>False</td>\n",
              "      <td>False</td>\n",
              "      <td>False</td>\n",
              "      <td>False</td>\n",
              "      <td>False</td>\n",
              "      <td>False</td>\n",
              "      <td>True</td>\n",
              "      <td>True</td>\n",
              "      <td>True</td>\n",
              "      <td>True</td>\n",
              "      <td>True</td>\n",
              "    </tr>\n",
              "    <tr>\n",
              "      <th>17414</th>\n",
              "      <td>False</td>\n",
              "      <td>False</td>\n",
              "      <td>False</td>\n",
              "      <td>False</td>\n",
              "      <td>False</td>\n",
              "      <td>False</td>\n",
              "      <td>False</td>\n",
              "      <td>False</td>\n",
              "      <td>False</td>\n",
              "      <td>False</td>\n",
              "      <td>True</td>\n",
              "      <td>True</td>\n",
              "      <td>True</td>\n",
              "      <td>True</td>\n",
              "      <td>True</td>\n",
              "    </tr>\n",
              "    <tr>\n",
              "      <th>17415</th>\n",
              "      <td>False</td>\n",
              "      <td>False</td>\n",
              "      <td>False</td>\n",
              "      <td>False</td>\n",
              "      <td>False</td>\n",
              "      <td>False</td>\n",
              "      <td>False</td>\n",
              "      <td>False</td>\n",
              "      <td>False</td>\n",
              "      <td>False</td>\n",
              "      <td>True</td>\n",
              "      <td>True</td>\n",
              "      <td>True</td>\n",
              "      <td>True</td>\n",
              "      <td>True</td>\n",
              "    </tr>\n",
              "  </tbody>\n",
              "</table>\n",
              "<p>17416 rows × 15 columns</p>\n",
              "</div>"
            ],
            "text/plain": [
              "        Name  Platform  Year_of_Release  ...  User_Score  User_Count  Rating\n",
              "0      False     False            False  ...       False       False   False\n",
              "1      False     False            False  ...        True        True    True\n",
              "2      False     False            False  ...       False       False   False\n",
              "3      False     False            False  ...       False       False   False\n",
              "4      False     False            False  ...        True        True    True\n",
              "...      ...       ...              ...  ...         ...         ...     ...\n",
              "17411  False     False            False  ...        True        True   False\n",
              "17412  False     False            False  ...        True        True    True\n",
              "17413  False     False            False  ...        True        True    True\n",
              "17414  False     False            False  ...        True        True    True\n",
              "17415  False     False            False  ...        True        True    True\n",
              "\n",
              "[17416 rows x 15 columns]"
            ]
          },
          "metadata": {
            "tags": []
          },
          "execution_count": 20
        }
      ]
    },
    {
      "cell_type": "code",
      "metadata": {
        "id": "lzLGQemeAZtn",
        "colab_type": "code",
        "colab": {
          "base_uri": "https://localhost:8080/",
          "height": 286
        },
        "outputId": "d7444100-dc3b-4a8f-9ed9-b6c7d277a268"
      },
      "source": [
        "# Example 3b\n",
        "# --- \n",
        "# We can also check for missing values in each column \n",
        "# ---\n",
        "# OUR CODE GOES BELOW\n",
        "#\n",
        "df.isnull().any()"
      ],
      "execution_count": 22,
      "outputs": [
        {
          "output_type": "execute_result",
          "data": {
            "text/plain": [
              "Name               False\n",
              "Platform           False\n",
              "Year_of_Release     True\n",
              "Genre              False\n",
              "Publisher           True\n",
              "NA_Sales           False\n",
              "EU_Sales           False\n",
              "JP_Sales           False\n",
              "Other_Sales        False\n",
              "Global_Sales       False\n",
              "Critic_Score        True\n",
              "Critic_Count        True\n",
              "User_Score          True\n",
              "User_Count          True\n",
              "Rating              True\n",
              "dtype: bool"
            ]
          },
          "metadata": {
            "tags": []
          },
          "execution_count": 22
        }
      ]
    },
    {
      "cell_type": "code",
      "metadata": {
        "id": "1q6GrIVILiQb",
        "colab_type": "code",
        "colab": {
          "base_uri": "https://localhost:8080/",
          "height": 286
        },
        "outputId": "c1085259-9db1-4258-f834-30703000ad8e"
      },
      "source": [
        "# Example 3c\n",
        "# ---\n",
        "# We can check how many missing values there are across each column by \n",
        "# ---\n",
        "# OUR CODE GOES BELOW\n",
        "#\n",
        "df.isnull().sum()"
      ],
      "execution_count": 23,
      "outputs": [
        {
          "output_type": "execute_result",
          "data": {
            "text/plain": [
              "Name                  0\n",
              "Platform              0\n",
              "Year_of_Release       8\n",
              "Genre                 0\n",
              "Publisher             1\n",
              "NA_Sales              0\n",
              "EU_Sales              0\n",
              "JP_Sales              0\n",
              "Other_Sales           0\n",
              "Global_Sales          0\n",
              "Critic_Score       9080\n",
              "Critic_Count       9080\n",
              "User_Score         9618\n",
              "User_Count         9618\n",
              "Rating             7164\n",
              "dtype: int64"
            ]
          },
          "metadata": {
            "tags": []
          },
          "execution_count": 23
        }
      ]
    },
    {
      "cell_type": "code",
      "metadata": {
        "id": "6c26TzAbLljF",
        "colab_type": "code",
        "colab": {
          "base_uri": "https://localhost:8080/",
          "height": 34
        },
        "outputId": "2cef512e-fd7a-4623-b04c-0b1a0354dd0f"
      },
      "source": [
        "# Example 3d\n",
        "# ---\n",
        "# We can also check to see if we have any missing values in the dataframe  \n",
        "# ---\n",
        "# OUR CODE GOES BELOW\n",
        "#\n",
        "print(df.isnull().values.any())"
      ],
      "execution_count": 24,
      "outputs": [
        {
          "output_type": "stream",
          "text": [
            "True\n"
          ],
          "name": "stdout"
        }
      ]
    },
    {
      "cell_type": "code",
      "metadata": {
        "id": "L_qoob_9LnZP",
        "colab_type": "code",
        "colab": {
          "base_uri": "https://localhost:8080/",
          "height": 286
        },
        "outputId": "c1c8e510-ae5b-447e-e8d0-ee1435b3ee1d"
      },
      "source": [
        "# Example 3e: Method 1\n",
        "# ---\n",
        "# Dealing with the missing data\n",
        "# ---\n",
        "# OUR CODE GOES BELOW\n",
        "# \n",
        "\n",
        "# We can drop the missing observations \n",
        "# ---\n",
        "#\n",
        "df_no_missing = df.dropna()\n",
        "\n",
        "# Checking for missing data\n",
        "df_no_missing.isnull().sum()"
      ],
      "execution_count": 25,
      "outputs": [
        {
          "output_type": "execute_result",
          "data": {
            "text/plain": [
              "Name               0\n",
              "Platform           0\n",
              "Year_of_Release    0\n",
              "Genre              0\n",
              "Publisher          0\n",
              "NA_Sales           0\n",
              "EU_Sales           0\n",
              "JP_Sales           0\n",
              "Other_Sales        0\n",
              "Global_Sales       0\n",
              "Critic_Score       0\n",
              "Critic_Count       0\n",
              "User_Score         0\n",
              "User_Count         0\n",
              "Rating             0\n",
              "dtype: int64"
            ]
          },
          "metadata": {
            "tags": []
          },
          "execution_count": 25
        }
      ]
    },
    {
      "cell_type": "code",
      "metadata": {
        "id": "cg4-ef-sLqlb",
        "colab_type": "code",
        "colab": {
          "base_uri": "https://localhost:8080/",
          "height": 34
        },
        "outputId": "92c5bce5-55c7-4446-c505-ca1c1058f389"
      },
      "source": [
        "# Example 3e: Method 2\n",
        "# ---\n",
        "# We can drop rows where all cells in that row is NA\n",
        "# ---\n",
        "# OUR CODE GOES BELOW\n",
        "# \n",
        "df_cleaned = df.dropna(how='all')\n",
        "\n",
        "# Checking the shape of our dataset\n",
        "df_cleaned.shape"
      ],
      "execution_count": 28,
      "outputs": [
        {
          "output_type": "execute_result",
          "data": {
            "text/plain": [
              "(17416, 15)"
            ]
          },
          "metadata": {
            "tags": []
          },
          "execution_count": 28
        }
      ]
    },
    {
      "cell_type": "code",
      "metadata": {
        "id": "UxfcpIWILsHF",
        "colab_type": "code",
        "colab": {
          "base_uri": "https://localhost:8080/",
          "height": 34
        },
        "outputId": "1b4fb3af-e620-474f-d085-f1e4f6f569c9"
      },
      "source": [
        "# Example 3e: Method 3\n",
        "# ---\n",
        "# We could drop columns if they only contain missing values\n",
        "# ---\n",
        "# OUR CODE GOES BELOW\n",
        "# \n",
        "df_without_columns = df.dropna(axis=1, how='all')\n",
        "\n",
        "# Checking the shape of our dataset\n",
        "df_without_columns.shape"
      ],
      "execution_count": 29,
      "outputs": [
        {
          "output_type": "execute_result",
          "data": {
            "text/plain": [
              "(17416, 15)"
            ]
          },
          "metadata": {
            "tags": []
          },
          "execution_count": 29
        }
      ]
    },
    {
      "cell_type": "code",
      "metadata": {
        "id": "5nRHn99xLuGU",
        "colab_type": "code",
        "colab": {
          "base_uri": "https://localhost:8080/",
          "height": 34
        },
        "outputId": "f034a729-11ea-463d-f45d-415447a4172e"
      },
      "source": [
        "# Example 3e: Method 4\n",
        "# ---\n",
        "# We could drop rows that contain less than five observations\n",
        "# ---\n",
        "# OUR CODE GOES BELOW\n",
        "# \n",
        "df.dropna(thresh=5)\n",
        "\n",
        "# Checking the shape of our dataset\n",
        "df.shape\n",
        "\n",
        "\n",
        "# Further reading\n",
        "# ----\n",
        "# Above are only a few methods of dealing with missing data. "
      ],
      "execution_count": 30,
      "outputs": [
        {
          "output_type": "execute_result",
          "data": {
            "text/plain": [
              "(17416, 15)"
            ]
          },
          "metadata": {
            "tags": []
          },
          "execution_count": 30
        }
      ]
    },
    {
      "cell_type": "code",
      "metadata": {
        "id": "LHVLpO6bLt9r",
        "colab_type": "code",
        "colab": {
          "base_uri": "https://localhost:8080/",
          "height": 34
        },
        "outputId": "fcfebf82-c75e-4d55-ddf1-465a6d225e6c"
      },
      "source": [
        "# Challenge 3a\n",
        "# ---\n",
        "# Question: Find the missing values in the video games datset below\n",
        "# You can use any of the above methods to you see fit.\n",
        "# ---  \n",
        "# OUR CODE GOES BELOW\n",
        "df = pd.read_csv(\"http://bit.ly/VideoGamesSalesDataset\")\n",
        "\n",
        "print(df.isnull().values.any())\n"
      ],
      "execution_count": 31,
      "outputs": [
        {
          "output_type": "stream",
          "text": [
            "True\n"
          ],
          "name": "stdout"
        }
      ]
    },
    {
      "cell_type": "code",
      "metadata": {
        "id": "VIaciSKTMCRl",
        "colab_type": "code",
        "colab": {
          "base_uri": "https://localhost:8080/",
          "height": 286
        },
        "outputId": "82edfd63-3e58-41d2-e5e8-71bb00144564"
      },
      "source": [
        "# Challenge 3b\n",
        "# ---\n",
        "# Question: Handle the missing values in video games dataset\n",
        "# You can any of the above methods that you see fit.\n",
        "# ---\n",
        "# OUR CODE GOES BELOW\n",
        "# \n",
        "\n",
        "df = pd.read_csv(\"http://bit.ly/VideoGamesSalesDataset\")\n",
        "df_no_missing = df.dropna()\n",
        "df_no_missing.isnull().sum()"
      ],
      "execution_count": 34,
      "outputs": [
        {
          "output_type": "execute_result",
          "data": {
            "text/plain": [
              "Name               0\n",
              "Platform           0\n",
              "Year_of_Release    0\n",
              "Genre              0\n",
              "Publisher          0\n",
              "NA_Sales           0\n",
              "EU_Sales           0\n",
              "JP_Sales           0\n",
              "Other_Sales        0\n",
              "Global_Sales       0\n",
              "Critic_Score       0\n",
              "Critic_Count       0\n",
              "User_Score         0\n",
              "User_Count         0\n",
              "Rating             0\n",
              "dtype: int64"
            ]
          },
          "metadata": {
            "tags": []
          },
          "execution_count": 34
        }
      ]
    },
    {
      "cell_type": "markdown",
      "metadata": {
        "id": "SZOg8AbeAaub",
        "colab_type": "text"
      },
      "source": [
        "## 4. Filtering"
      ]
    },
    {
      "cell_type": "code",
      "metadata": {
        "id": "hlWrf44NAecP",
        "colab_type": "code",
        "colab": {
          "base_uri": "https://localhost:8080/",
          "height": 166
        },
        "outputId": "ecc62e45-afcb-4347-fecf-df1918b5c544"
      },
      "source": [
        "# Example 4a\n",
        "# ---\n",
        "# Selecting rows when columns contain certain values\n",
        "# ---\n",
        "# NB: Selecting records where petal_length is 5.0 \n",
        "# ---\n",
        "# OUR CODE GOES BELOW\n",
        "# \n",
        "\n",
        "# Selecting the records where column has certain values \n",
        "# ---\n",
        "#\n",
        "df = pd.read_csv(\"http://bit.ly/IrisDataset\")\n",
        "df[df.petal_length.isin(['5.0'])]"
      ],
      "execution_count": 36,
      "outputs": [
        {
          "output_type": "execute_result",
          "data": {
            "text/html": [
              "<div>\n",
              "<style scoped>\n",
              "    .dataframe tbody tr th:only-of-type {\n",
              "        vertical-align: middle;\n",
              "    }\n",
              "\n",
              "    .dataframe tbody tr th {\n",
              "        vertical-align: top;\n",
              "    }\n",
              "\n",
              "    .dataframe thead th {\n",
              "        text-align: right;\n",
              "    }\n",
              "</style>\n",
              "<table border=\"1\" class=\"dataframe\">\n",
              "  <thead>\n",
              "    <tr style=\"text-align: right;\">\n",
              "      <th></th>\n",
              "      <th>sepal_length</th>\n",
              "      <th>sepal_width</th>\n",
              "      <th>petal_length</th>\n",
              "      <th>petal_width</th>\n",
              "      <th>species</th>\n",
              "    </tr>\n",
              "  </thead>\n",
              "  <tbody>\n",
              "    <tr>\n",
              "      <th>77</th>\n",
              "      <td>6.7</td>\n",
              "      <td>3.0</td>\n",
              "      <td>5.0</td>\n",
              "      <td>1.7</td>\n",
              "      <td>Iris-versicolor</td>\n",
              "    </tr>\n",
              "    <tr>\n",
              "      <th>113</th>\n",
              "      <td>5.7</td>\n",
              "      <td>2.5</td>\n",
              "      <td>5.0</td>\n",
              "      <td>2.0</td>\n",
              "      <td>Iris-virginica</td>\n",
              "    </tr>\n",
              "    <tr>\n",
              "      <th>119</th>\n",
              "      <td>6.0</td>\n",
              "      <td>2.2</td>\n",
              "      <td>5.0</td>\n",
              "      <td>1.5</td>\n",
              "      <td>Iris-virginica</td>\n",
              "    </tr>\n",
              "    <tr>\n",
              "      <th>146</th>\n",
              "      <td>6.3</td>\n",
              "      <td>2.5</td>\n",
              "      <td>5.0</td>\n",
              "      <td>1.9</td>\n",
              "      <td>Iris-virginica</td>\n",
              "    </tr>\n",
              "  </tbody>\n",
              "</table>\n",
              "</div>"
            ],
            "text/plain": [
              "     sepal_length  sepal_width  petal_length  petal_width          species\n",
              "77            6.7          3.0           5.0          1.7  Iris-versicolor\n",
              "113           5.7          2.5           5.0          2.0   Iris-virginica\n",
              "119           6.0          2.2           5.0          1.5   Iris-virginica\n",
              "146           6.3          2.5           5.0          1.9   Iris-virginica"
            ]
          },
          "metadata": {
            "tags": []
          },
          "execution_count": 36
        }
      ]
    },
    {
      "cell_type": "code",
      "metadata": {
        "id": "48D2vBZuEukC",
        "colab_type": "code",
        "colab": {
          "base_uri": "https://localhost:8080/",
          "height": 817
        },
        "outputId": "e32cf128-b83e-4019-a838-098b70644ca4"
      },
      "source": [
        "# Challenge 4a\n",
        "# ---\n",
        "# Question: Select records where the sepal_width is 3.0\n",
        "# ---\n",
        "# OUR CODE GOES BELOW\n",
        "# \n",
        "df = pd.read_csv(\"http://bit.ly/IrisDataset\")\n",
        "df[df.sepal_width.isin(['3.0'])]"
      ],
      "execution_count": 39,
      "outputs": [
        {
          "output_type": "execute_result",
          "data": {
            "text/html": [
              "<div>\n",
              "<style scoped>\n",
              "    .dataframe tbody tr th:only-of-type {\n",
              "        vertical-align: middle;\n",
              "    }\n",
              "\n",
              "    .dataframe tbody tr th {\n",
              "        vertical-align: top;\n",
              "    }\n",
              "\n",
              "    .dataframe thead th {\n",
              "        text-align: right;\n",
              "    }\n",
              "</style>\n",
              "<table border=\"1\" class=\"dataframe\">\n",
              "  <thead>\n",
              "    <tr style=\"text-align: right;\">\n",
              "      <th></th>\n",
              "      <th>sepal_length</th>\n",
              "      <th>sepal_width</th>\n",
              "      <th>petal_length</th>\n",
              "      <th>petal_width</th>\n",
              "      <th>species</th>\n",
              "    </tr>\n",
              "  </thead>\n",
              "  <tbody>\n",
              "    <tr>\n",
              "      <th>1</th>\n",
              "      <td>4.9</td>\n",
              "      <td>3.0</td>\n",
              "      <td>1.4</td>\n",
              "      <td>0.2</td>\n",
              "      <td>Iris-setosa</td>\n",
              "    </tr>\n",
              "    <tr>\n",
              "      <th>12</th>\n",
              "      <td>4.8</td>\n",
              "      <td>3.0</td>\n",
              "      <td>1.4</td>\n",
              "      <td>0.1</td>\n",
              "      <td>Iris-setosa</td>\n",
              "    </tr>\n",
              "    <tr>\n",
              "      <th>13</th>\n",
              "      <td>4.3</td>\n",
              "      <td>3.0</td>\n",
              "      <td>1.1</td>\n",
              "      <td>0.1</td>\n",
              "      <td>Iris-setosa</td>\n",
              "    </tr>\n",
              "    <tr>\n",
              "      <th>25</th>\n",
              "      <td>5.0</td>\n",
              "      <td>3.0</td>\n",
              "      <td>1.6</td>\n",
              "      <td>0.2</td>\n",
              "      <td>Iris-setosa</td>\n",
              "    </tr>\n",
              "    <tr>\n",
              "      <th>38</th>\n",
              "      <td>4.4</td>\n",
              "      <td>3.0</td>\n",
              "      <td>1.3</td>\n",
              "      <td>0.2</td>\n",
              "      <td>Iris-setosa</td>\n",
              "    </tr>\n",
              "    <tr>\n",
              "      <th>45</th>\n",
              "      <td>4.8</td>\n",
              "      <td>3.0</td>\n",
              "      <td>1.4</td>\n",
              "      <td>0.3</td>\n",
              "      <td>Iris-setosa</td>\n",
              "    </tr>\n",
              "    <tr>\n",
              "      <th>61</th>\n",
              "      <td>5.9</td>\n",
              "      <td>3.0</td>\n",
              "      <td>4.2</td>\n",
              "      <td>1.5</td>\n",
              "      <td>Iris-versicolor</td>\n",
              "    </tr>\n",
              "    <tr>\n",
              "      <th>66</th>\n",
              "      <td>5.6</td>\n",
              "      <td>3.0</td>\n",
              "      <td>4.5</td>\n",
              "      <td>1.5</td>\n",
              "      <td>Iris-versicolor</td>\n",
              "    </tr>\n",
              "    <tr>\n",
              "      <th>75</th>\n",
              "      <td>6.6</td>\n",
              "      <td>3.0</td>\n",
              "      <td>4.4</td>\n",
              "      <td>1.4</td>\n",
              "      <td>Iris-versicolor</td>\n",
              "    </tr>\n",
              "    <tr>\n",
              "      <th>77</th>\n",
              "      <td>6.7</td>\n",
              "      <td>3.0</td>\n",
              "      <td>5.0</td>\n",
              "      <td>1.7</td>\n",
              "      <td>Iris-versicolor</td>\n",
              "    </tr>\n",
              "    <tr>\n",
              "      <th>84</th>\n",
              "      <td>5.4</td>\n",
              "      <td>3.0</td>\n",
              "      <td>4.5</td>\n",
              "      <td>1.5</td>\n",
              "      <td>Iris-versicolor</td>\n",
              "    </tr>\n",
              "    <tr>\n",
              "      <th>88</th>\n",
              "      <td>5.6</td>\n",
              "      <td>3.0</td>\n",
              "      <td>4.1</td>\n",
              "      <td>1.3</td>\n",
              "      <td>Iris-versicolor</td>\n",
              "    </tr>\n",
              "    <tr>\n",
              "      <th>91</th>\n",
              "      <td>6.1</td>\n",
              "      <td>3.0</td>\n",
              "      <td>4.6</td>\n",
              "      <td>1.4</td>\n",
              "      <td>Iris-versicolor</td>\n",
              "    </tr>\n",
              "    <tr>\n",
              "      <th>95</th>\n",
              "      <td>5.7</td>\n",
              "      <td>3.0</td>\n",
              "      <td>4.2</td>\n",
              "      <td>1.2</td>\n",
              "      <td>Iris-versicolor</td>\n",
              "    </tr>\n",
              "    <tr>\n",
              "      <th>102</th>\n",
              "      <td>7.1</td>\n",
              "      <td>3.0</td>\n",
              "      <td>5.9</td>\n",
              "      <td>2.1</td>\n",
              "      <td>Iris-virginica</td>\n",
              "    </tr>\n",
              "    <tr>\n",
              "      <th>104</th>\n",
              "      <td>6.5</td>\n",
              "      <td>3.0</td>\n",
              "      <td>5.8</td>\n",
              "      <td>2.2</td>\n",
              "      <td>Iris-virginica</td>\n",
              "    </tr>\n",
              "    <tr>\n",
              "      <th>105</th>\n",
              "      <td>7.6</td>\n",
              "      <td>3.0</td>\n",
              "      <td>6.6</td>\n",
              "      <td>2.1</td>\n",
              "      <td>Iris-virginica</td>\n",
              "    </tr>\n",
              "    <tr>\n",
              "      <th>112</th>\n",
              "      <td>6.8</td>\n",
              "      <td>3.0</td>\n",
              "      <td>5.5</td>\n",
              "      <td>2.1</td>\n",
              "      <td>Iris-virginica</td>\n",
              "    </tr>\n",
              "    <tr>\n",
              "      <th>116</th>\n",
              "      <td>6.5</td>\n",
              "      <td>3.0</td>\n",
              "      <td>5.5</td>\n",
              "      <td>1.8</td>\n",
              "      <td>Iris-virginica</td>\n",
              "    </tr>\n",
              "    <tr>\n",
              "      <th>127</th>\n",
              "      <td>6.1</td>\n",
              "      <td>3.0</td>\n",
              "      <td>4.9</td>\n",
              "      <td>1.8</td>\n",
              "      <td>Iris-virginica</td>\n",
              "    </tr>\n",
              "    <tr>\n",
              "      <th>129</th>\n",
              "      <td>7.2</td>\n",
              "      <td>3.0</td>\n",
              "      <td>5.8</td>\n",
              "      <td>1.6</td>\n",
              "      <td>Iris-virginica</td>\n",
              "    </tr>\n",
              "    <tr>\n",
              "      <th>135</th>\n",
              "      <td>7.7</td>\n",
              "      <td>3.0</td>\n",
              "      <td>6.1</td>\n",
              "      <td>2.3</td>\n",
              "      <td>Iris-virginica</td>\n",
              "    </tr>\n",
              "    <tr>\n",
              "      <th>138</th>\n",
              "      <td>6.0</td>\n",
              "      <td>3.0</td>\n",
              "      <td>4.8</td>\n",
              "      <td>1.8</td>\n",
              "      <td>Iris-virginica</td>\n",
              "    </tr>\n",
              "    <tr>\n",
              "      <th>145</th>\n",
              "      <td>6.7</td>\n",
              "      <td>3.0</td>\n",
              "      <td>5.2</td>\n",
              "      <td>2.3</td>\n",
              "      <td>Iris-virginica</td>\n",
              "    </tr>\n",
              "    <tr>\n",
              "      <th>147</th>\n",
              "      <td>6.5</td>\n",
              "      <td>3.0</td>\n",
              "      <td>5.2</td>\n",
              "      <td>2.0</td>\n",
              "      <td>Iris-virginica</td>\n",
              "    </tr>\n",
              "    <tr>\n",
              "      <th>149</th>\n",
              "      <td>5.9</td>\n",
              "      <td>3.0</td>\n",
              "      <td>5.1</td>\n",
              "      <td>1.8</td>\n",
              "      <td>Iris-virginica</td>\n",
              "    </tr>\n",
              "  </tbody>\n",
              "</table>\n",
              "</div>"
            ],
            "text/plain": [
              "     sepal_length  sepal_width  petal_length  petal_width          species\n",
              "1             4.9          3.0           1.4          0.2      Iris-setosa\n",
              "12            4.8          3.0           1.4          0.1      Iris-setosa\n",
              "13            4.3          3.0           1.1          0.1      Iris-setosa\n",
              "25            5.0          3.0           1.6          0.2      Iris-setosa\n",
              "38            4.4          3.0           1.3          0.2      Iris-setosa\n",
              "45            4.8          3.0           1.4          0.3      Iris-setosa\n",
              "61            5.9          3.0           4.2          1.5  Iris-versicolor\n",
              "66            5.6          3.0           4.5          1.5  Iris-versicolor\n",
              "75            6.6          3.0           4.4          1.4  Iris-versicolor\n",
              "77            6.7          3.0           5.0          1.7  Iris-versicolor\n",
              "84            5.4          3.0           4.5          1.5  Iris-versicolor\n",
              "88            5.6          3.0           4.1          1.3  Iris-versicolor\n",
              "91            6.1          3.0           4.6          1.4  Iris-versicolor\n",
              "95            5.7          3.0           4.2          1.2  Iris-versicolor\n",
              "102           7.1          3.0           5.9          2.1   Iris-virginica\n",
              "104           6.5          3.0           5.8          2.2   Iris-virginica\n",
              "105           7.6          3.0           6.6          2.1   Iris-virginica\n",
              "112           6.8          3.0           5.5          2.1   Iris-virginica\n",
              "116           6.5          3.0           5.5          1.8   Iris-virginica\n",
              "127           6.1          3.0           4.9          1.8   Iris-virginica\n",
              "129           7.2          3.0           5.8          1.6   Iris-virginica\n",
              "135           7.7          3.0           6.1          2.3   Iris-virginica\n",
              "138           6.0          3.0           4.8          1.8   Iris-virginica\n",
              "145           6.7          3.0           5.2          2.3   Iris-virginica\n",
              "147           6.5          3.0           5.2          2.0   Iris-virginica\n",
              "149           5.9          3.0           5.1          1.8   Iris-virginica"
            ]
          },
          "metadata": {
            "tags": []
          },
          "execution_count": 39
        }
      ]
    },
    {
      "cell_type": "code",
      "metadata": {
        "id": "lQoQq-nfAjL7",
        "colab_type": "code",
        "colab": {
          "base_uri": "https://localhost:8080/",
          "height": 402
        },
        "outputId": "137b9fd5-98f3-4ebe-c359-2cd169a60856"
      },
      "source": [
        "# Example 4b\n",
        "# ---\n",
        "# Selecting the records where column doesn't have certain values \n",
        "# in our case, where petal_leghth is not 5.0\n",
        "# ---\n",
        "# OUR CODE GOES BELOW\n",
        "# \n",
        "df = pd.read_csv(\"http://bit.ly/IrisDataset\")\n",
        "df[~df.petal_length.isin(['5.0'])]"
      ],
      "execution_count": 40,
      "outputs": [
        {
          "output_type": "execute_result",
          "data": {
            "text/html": [
              "<div>\n",
              "<style scoped>\n",
              "    .dataframe tbody tr th:only-of-type {\n",
              "        vertical-align: middle;\n",
              "    }\n",
              "\n",
              "    .dataframe tbody tr th {\n",
              "        vertical-align: top;\n",
              "    }\n",
              "\n",
              "    .dataframe thead th {\n",
              "        text-align: right;\n",
              "    }\n",
              "</style>\n",
              "<table border=\"1\" class=\"dataframe\">\n",
              "  <thead>\n",
              "    <tr style=\"text-align: right;\">\n",
              "      <th></th>\n",
              "      <th>sepal_length</th>\n",
              "      <th>sepal_width</th>\n",
              "      <th>petal_length</th>\n",
              "      <th>petal_width</th>\n",
              "      <th>species</th>\n",
              "    </tr>\n",
              "  </thead>\n",
              "  <tbody>\n",
              "    <tr>\n",
              "      <th>0</th>\n",
              "      <td>5.1</td>\n",
              "      <td>3.5</td>\n",
              "      <td>1.4</td>\n",
              "      <td>0.2</td>\n",
              "      <td>Iris-setosa</td>\n",
              "    </tr>\n",
              "    <tr>\n",
              "      <th>1</th>\n",
              "      <td>4.9</td>\n",
              "      <td>3.0</td>\n",
              "      <td>1.4</td>\n",
              "      <td>0.2</td>\n",
              "      <td>Iris-setosa</td>\n",
              "    </tr>\n",
              "    <tr>\n",
              "      <th>2</th>\n",
              "      <td>4.7</td>\n",
              "      <td>3.2</td>\n",
              "      <td>1.3</td>\n",
              "      <td>0.2</td>\n",
              "      <td>Iris-setosa</td>\n",
              "    </tr>\n",
              "    <tr>\n",
              "      <th>3</th>\n",
              "      <td>4.6</td>\n",
              "      <td>3.1</td>\n",
              "      <td>1.5</td>\n",
              "      <td>0.2</td>\n",
              "      <td>Iris-setosa</td>\n",
              "    </tr>\n",
              "    <tr>\n",
              "      <th>4</th>\n",
              "      <td>5.0</td>\n",
              "      <td>3.6</td>\n",
              "      <td>1.4</td>\n",
              "      <td>0.2</td>\n",
              "      <td>Iris-setosa</td>\n",
              "    </tr>\n",
              "    <tr>\n",
              "      <th>...</th>\n",
              "      <td>...</td>\n",
              "      <td>...</td>\n",
              "      <td>...</td>\n",
              "      <td>...</td>\n",
              "      <td>...</td>\n",
              "    </tr>\n",
              "    <tr>\n",
              "      <th>144</th>\n",
              "      <td>6.7</td>\n",
              "      <td>3.3</td>\n",
              "      <td>5.7</td>\n",
              "      <td>2.5</td>\n",
              "      <td>Iris-virginica</td>\n",
              "    </tr>\n",
              "    <tr>\n",
              "      <th>145</th>\n",
              "      <td>6.7</td>\n",
              "      <td>3.0</td>\n",
              "      <td>5.2</td>\n",
              "      <td>2.3</td>\n",
              "      <td>Iris-virginica</td>\n",
              "    </tr>\n",
              "    <tr>\n",
              "      <th>147</th>\n",
              "      <td>6.5</td>\n",
              "      <td>3.0</td>\n",
              "      <td>5.2</td>\n",
              "      <td>2.0</td>\n",
              "      <td>Iris-virginica</td>\n",
              "    </tr>\n",
              "    <tr>\n",
              "      <th>148</th>\n",
              "      <td>6.2</td>\n",
              "      <td>3.4</td>\n",
              "      <td>5.4</td>\n",
              "      <td>2.3</td>\n",
              "      <td>Iris-virginica</td>\n",
              "    </tr>\n",
              "    <tr>\n",
              "      <th>149</th>\n",
              "      <td>5.9</td>\n",
              "      <td>3.0</td>\n",
              "      <td>5.1</td>\n",
              "      <td>1.8</td>\n",
              "      <td>Iris-virginica</td>\n",
              "    </tr>\n",
              "  </tbody>\n",
              "</table>\n",
              "<p>146 rows × 5 columns</p>\n",
              "</div>"
            ],
            "text/plain": [
              "     sepal_length  sepal_width  petal_length  petal_width         species\n",
              "0             5.1          3.5           1.4          0.2     Iris-setosa\n",
              "1             4.9          3.0           1.4          0.2     Iris-setosa\n",
              "2             4.7          3.2           1.3          0.2     Iris-setosa\n",
              "3             4.6          3.1           1.5          0.2     Iris-setosa\n",
              "4             5.0          3.6           1.4          0.2     Iris-setosa\n",
              "..            ...          ...           ...          ...             ...\n",
              "144           6.7          3.3           5.7          2.5  Iris-virginica\n",
              "145           6.7          3.0           5.2          2.3  Iris-virginica\n",
              "147           6.5          3.0           5.2          2.0  Iris-virginica\n",
              "148           6.2          3.4           5.4          2.3  Iris-virginica\n",
              "149           5.9          3.0           5.1          1.8  Iris-virginica\n",
              "\n",
              "[146 rows x 5 columns]"
            ]
          },
          "metadata": {
            "tags": []
          },
          "execution_count": 40
        }
      ]
    },
    {
      "cell_type": "code",
      "metadata": {
        "id": "C5IPcb_bEv_B",
        "colab_type": "code",
        "colab": {}
      },
      "source": [
        "# Challenge 4b\n",
        "# ---\n",
        "# Question: Select all the Sports video games from the video games dataset.\n",
        "# ---\n",
        "# OUR CODE GOES BELOW\n",
        "# \n"
      ],
      "execution_count": 0,
      "outputs": []
    },
    {
      "cell_type": "code",
      "metadata": {
        "id": "JDnwO9TSHy3j",
        "colab_type": "code",
        "colab": {}
      },
      "source": [
        "# Example 4c\n",
        "# ---\n",
        "# Selecting records using filters where petal_width greater than 1.9\n",
        "# ---\n",
        "# OUR CODE GOES BELOW\n",
        "# \n",
        "\n",
        "df[(df['petal_width'] > 1.9)]"
      ],
      "execution_count": 0,
      "outputs": []
    },
    {
      "cell_type": "code",
      "metadata": {
        "id": "bYeaoRAIH0vO",
        "colab_type": "code",
        "colab": {}
      },
      "source": [
        "# Challenge 4c\n",
        "# ---\n",
        "# Question: Which video games had global sales greater than 50?\n",
        "# ---\n",
        "# OUR CODE GOES BELOW\n",
        "# \n"
      ],
      "execution_count": 0,
      "outputs": []
    },
    {
      "cell_type": "markdown",
      "metadata": {
        "id": "-1tL9P5BAhWS",
        "colab_type": "text"
      },
      "source": [
        "## 5. Sorting"
      ]
    },
    {
      "cell_type": "code",
      "metadata": {
        "id": "QgC9N1_DAjq3",
        "colab_type": "code",
        "colab": {}
      },
      "source": [
        "# Example 5a\n",
        "# --- \n",
        "# Load the given dataframe in ascending order by reports \n",
        "# ---\n",
        "# OUR CODE GOES BELOW\n",
        "# \n",
        " \n",
        "# Sorting our dataset in ascending order by sepal_length\n",
        "# ---\n",
        "# \n",
        "df.sort_values(by='sepal_length', ascending=1)"
      ],
      "execution_count": 0,
      "outputs": []
    },
    {
      "cell_type": "code",
      "metadata": {
        "id": "too5E8HVBJSk",
        "colab_type": "code",
        "colab": {}
      },
      "source": [
        "# Challenge 5a \n",
        "# --- \n",
        "# Load the video games dataframe in descending order by Name.\n",
        "# Hint: ascending = 0 \n",
        "# ---\n",
        "# OUR CODE GOES BELOW\n",
        "# "
      ],
      "execution_count": 0,
      "outputs": []
    },
    {
      "cell_type": "markdown",
      "metadata": {
        "id": "bISArgNWBxR-",
        "colab_type": "text"
      },
      "source": [
        "## 6. Splitting, Merging and Concatenation"
      ]
    },
    {
      "cell_type": "code",
      "metadata": {
        "id": "zceIjjUiBy5A",
        "colab_type": "code",
        "colab": {}
      },
      "source": [
        "# Example 6a\n",
        "# --- \n",
        "# Split the dataframe species column into two columns by using the \"-\" character\n",
        "# ---\n",
        "# OUR CODE GOES BELOW\n",
        "# \n",
        " \n",
        "# Dropping null value columns to avoid errors \n",
        "df.dropna(inplace = True) \n",
        "  \n",
        "# New data frame with split value columns \n",
        "new_df = df[\"species\"].str.split(\"-\", n = 1, expand = True) \n",
        "  \n",
        "# Naking separate first name column from new data frame \n",
        "df[\"family\"]= new_df[0] \n",
        "  \n",
        "# Making separate last name column from new data frame \n",
        "df[\"sub-species\"]= new_df[1] \n",
        "  \n",
        "# Dropping old Name columns \n",
        "df.drop(columns =[\"species\"], inplace = True) \n",
        "  \n",
        "# Displaying our dataframe\n",
        "df "
      ],
      "execution_count": 0,
      "outputs": []
    },
    {
      "cell_type": "code",
      "metadata": {
        "id": "BwGSNkqz02qp",
        "colab_type": "code",
        "colab": {}
      },
      "source": [
        "# Example 2\n",
        "# ---\n",
        "# Concatenating (merging) two columns in a dataframe\n",
        "# ---  \n",
        "# OUR CODE GOES BELOW\n",
        "# \n",
        "\n",
        "# Concatenating our column\n",
        "# \n",
        "df['species'] = df['family'].str.cat(df['sub-species'],sep=\"-\")\n",
        "\n",
        "# Dropping old name columns \n",
        "#\n",
        "df.drop(columns = [\"family\", \"sub-species\"], inplace = True) \n",
        "\n",
        "# Previewing our new dataframe\n",
        "#\n",
        "df.head()"
      ],
      "execution_count": 0,
      "outputs": []
    },
    {
      "cell_type": "code",
      "metadata": {
        "id": "HEZyhikz3con",
        "colab_type": "code",
        "colab": {}
      },
      "source": [
        "# Challenge 6a\n",
        "# --- \n",
        "# Concatenate the the city and state columns from the dataset below. \n",
        "# The resulting region column should have city and state seperated by a comma and whitespace.\n",
        "# ---\n",
        "# Dataset url = http://bit.ly/SchoolShootingsDataset\n",
        "# ---\n",
        "# Step 1: Load the dataset\n",
        "# Step 2: Preview the dataset \n",
        "# Step 3: Perform your concatenation\n",
        "# Step 4: Dropping old columns\n",
        "# Step 4: Preview your final dataframe\n",
        "# ---\n",
        "# OUR CODE GOES BELOW\n",
        "# \n"
      ],
      "execution_count": 0,
      "outputs": []
    },
    {
      "cell_type": "code",
      "metadata": {
        "id": "rzPzBmYTPaSC",
        "colab_type": "code",
        "colab": {}
      },
      "source": [
        "# Example 6b\n",
        "# ---\n",
        "# Merging two dataframes. \n",
        "# In this example, we will create two simple dataframes for demonstration purposes.\n",
        "# ---  \n",
        "# OUR CODE GOES BELOW\n",
        "# \n",
        "\n",
        "# Let's create our first dataframe and preview it\n",
        "# \n",
        "df1 = pd.DataFrame([[2, 3], [41, 51]], columns=['a', 'b'])\n",
        "df1.head()"
      ],
      "execution_count": 0,
      "outputs": []
    },
    {
      "cell_type": "code",
      "metadata": {
        "id": "di8xE4ToPb7_",
        "colab_type": "code",
        "colab": {}
      },
      "source": [
        " # Let our second dataframe and preview it\n",
        "#\n",
        "df2 = pd.DataFrame([[2, 5], [41, 6]], columns=['a', 'c'])\n",
        "df2.head()"
      ],
      "execution_count": 0,
      "outputs": []
    },
    {
      "cell_type": "code",
      "metadata": {
        "id": "BQ8fDmmkzhEl",
        "colab_type": "code",
        "colab": {}
      },
      "source": [
        "# Merging our dataframes and storing our resulting dataframe in df3, then previewing it \n",
        "# \n",
        "df3 = df1.merge(df2, how='left', on='a') \n",
        "df3.head()"
      ],
      "execution_count": 0,
      "outputs": []
    },
    {
      "cell_type": "code",
      "metadata": {
        "id": "gSVuIQojFFBR",
        "colab_type": "code",
        "colab": {}
      },
      "source": [
        "# Challenge 6b\n",
        "# --- \n",
        "# Merge the following two datasets\n",
        "# ---\n",
        "# Dataset 1 url = http://bit.ly/CItiesDB\n",
        "# Dataset 2 url = http://bit.ly/CountriesDB1\n",
        "# ---\n",
        "# OUR CODE GOES BELOW\n",
        "#  "
      ],
      "execution_count": 0,
      "outputs": []
    },
    {
      "cell_type": "markdown",
      "metadata": {
        "id": "vAuIYctBB1ZX",
        "colab_type": "text"
      },
      "source": [
        "## 7. Exporting Data"
      ]
    },
    {
      "cell_type": "code",
      "metadata": {
        "id": "pMxOj6omB2a_",
        "colab_type": "code",
        "colab": {}
      },
      "source": [
        "# Pre-requisite 7\n",
        "# ---\n",
        "# Importing files module \n",
        "# ---\n",
        "# OUR CODE GOES BELOW\n",
        "#  \n",
        "\n",
        "# Files module will allow us to download our file from colaboratory\n",
        "from google.colab import files"
      ],
      "execution_count": 0,
      "outputs": []
    },
    {
      "cell_type": "code",
      "metadata": {
        "id": "e83--Ka_B21z",
        "colab_type": "code",
        "colab": {}
      },
      "source": [
        "# Example 7a\n",
        "# --- \n",
        "# Load the given dataframe in ascending order by reports \n",
        "# ---\n",
        "# OUR CODE GOES BELOW\n",
        "# \n",
        "  \n",
        "# Create our sample dataframe\n",
        "data = {'name': ['Daniel', 'Joyce', 'Elizabeth', 'Sanni', 'Sefu'], \n",
        "        'year': [2012, 2012, 2013, 2014, 2014], \n",
        "        'reports': [4, 24, 31, 2, 3]}\n",
        "df = pd.DataFrame(data, index = ['Nairobi', 'Cairo', 'Cape Town', 'Adis Ababa', 'Mombasa'])\n",
        "df.head()"
      ],
      "execution_count": 0,
      "outputs": []
    },
    {
      "cell_type": "code",
      "metadata": {
        "id": "aSqkbI0RPoq8",
        "colab_type": "code",
        "colab": {}
      },
      "source": [
        "# Exporting our sample dataframe as a csv\n",
        "# ---\n",
        "# \n",
        " \n",
        "df.to_csv('example.csv') \n",
        "\n",
        "# NB: In order to download our files from colaboratory we need to run the following\n",
        "#\n",
        "files.download('example.csv')"
      ],
      "execution_count": 0,
      "outputs": []
    },
    {
      "cell_type": "code",
      "metadata": {
        "id": "y5RNQvkq3sww",
        "colab_type": "code",
        "colab": {}
      },
      "source": [
        "# Challenge 7a\n",
        "# ---\n",
        "# Question: Export a csv file of your resulting video games dataframe below \n",
        "# --- \n",
        "# OUR CODE GOES BELOW\n",
        "#\n"
      ],
      "execution_count": 0,
      "outputs": []
    },
    {
      "cell_type": "code",
      "metadata": {
        "id": "U5_yqeq9Pq2h",
        "colab_type": "code",
        "colab": {}
      },
      "source": [
        "# Example 7b\n",
        "# ---\n",
        "# Exporting our sample dataframe as a excel file (xlsx)\n",
        "# --- \n",
        "# ---\n",
        "# OUR CODE GOES BELOW\n",
        "#  \n",
        "\n",
        "df.to_excel('example.xlsx') \n",
        "\n",
        "# NB: In order to download our files from colab we need to run the following\n",
        "#\n",
        "files.download('example.xlsx')"
      ],
      "execution_count": 0,
      "outputs": []
    },
    {
      "cell_type": "code",
      "metadata": {
        "id": "a1DnZc-isbs9",
        "colab_type": "code",
        "colab": {}
      },
      "source": [
        "# Challenge 7b\n",
        "# ---\n",
        "# Question: Export an excel file of your resulting video games dataframe below \n",
        "# --- \n",
        "# OUR CODE GOES BELOW\n",
        "#\n"
      ],
      "execution_count": 0,
      "outputs": []
    }
  ]
}